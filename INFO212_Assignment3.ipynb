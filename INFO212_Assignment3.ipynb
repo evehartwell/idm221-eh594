{
  "nbformat": 4,
  "nbformat_minor": 0,
  "metadata": {
    "kernelspec": {
      "display_name": "Python 3",
      "language": "python",
      "name": "python3"
    },
    "language_info": {
      "codemirror_mode": {
        "name": "ipython",
        "version": 3
      },
      "file_extension": ".py",
      "mimetype": "text/x-python",
      "name": "python",
      "nbconvert_exporter": "python",
      "pygments_lexer": "ipython3",
      "version": "3.7.6"
    },
    "colab": {
      "provenance": [],
      "include_colab_link": true
    }
  },
  "cells": [
    {
      "cell_type": "markdown",
      "metadata": {
        "id": "view-in-github",
        "colab_type": "text"
      },
      "source": [
        "<a href=\"https://colab.research.google.com/github/evehartwell/idm221-eh594/blob/main/INFO212_Assignment3.ipynb\" target=\"_parent\"><img src=\"https://colab.research.google.com/assets/colab-badge.svg\" alt=\"Open In Colab\"/></a>"
      ]
    },
    {
      "cell_type": "markdown",
      "metadata": {
        "id": "J_DqrDIsyu6G"
      },
      "source": [
        "# Drexel University\n",
        "## College of Computing and Informatics\n",
        "## INFO 212: Data Science Programming I\n",
        "## Assignment 3\n",
        "### Due Date: Sunday, June 2, 2024\n",
        "### This assignment counts for 20% of the final grade\n",
        "\n",
        "### A. Assignment Overview\n",
        "This assignment provides the opportunity for you to practice with Python data analysis skills.\n",
        "\n",
        "### B. What to Hand In\n",
        "\n",
        "Sumbit a completed this Jupyter notebook.\n",
        "\n",
        "### C. How to Hand In\n",
        "\n",
        "Submit your Jupyter notebook file through the course website in the Blackboard Learn system.\n",
        "\n",
        "### D. When to Hand In\n",
        "\n",
        "1. Submit your assignment no later than 11:59pm in the due date.\n",
        "2. There will be a 10% (absolute value) deduction for each day of lateness, to a maximum of 3 days; assignments will not be accepted beyond that point. Missing work will earn a zero grade.\n",
        "\n",
        "### E. Written Presentation Requirements (if applicable)\n",
        "Images must be clear and legible. Assignments will be judged on the basis of visual appearance, grammatical correctness, and quality of writing, as well as their contents. Please make sure that the text of your assignments is well-structured, using paragraphs, full sentences, and other features of well-written presentation.\n"
      ]
    },
    {
      "cell_type": "markdown",
      "source": [
        "# Your Name:"
      ],
      "metadata": {
        "id": "2sU24ZBT66xF"
      }
    },
    {
      "cell_type": "markdown",
      "metadata": {
        "id": "aUHvla5Fyu6Q"
      },
      "source": [
        "## Question 1 [20 marks]: Wikipedia has a Webpage: [List of countries by past and future population](https://en.wikipedia.org/wiki/List_of_countries_by_past_and_future_population). On this page, there are three tables containing the estimated populations from 1950 to 2050 for all the countries. Read the description on the Webpage to understand the information in the tables. Write Python code to use `requests` to read in the tables. Write programs to answer the following questions.\n",
        "1. How many tables have you read in? List the columns of the DataFrames that contain the population data.\n",
        "2.For each population DataFrame, rename the column names of average annual growth to meaningful and unique names.\n",
        "3. Create a DataFrame containing all the data from the population tables. i.e., the DataFrame contains the popultation and average annual growth data from 1950-2050. You need to combine the three population tables. How many rows and columns in the final combined DataFrame?\n",
        "4. For the top 10 most populous countries at 1950, plot their population data from 1950-2050 (in 5-year interval). The plot should use years 1950-2050 as x axis, and population numbers as y axis. The following figure shows the expected result.\n",
        "5. For the same top 10 most populous contries at 1950, plot the average annual growth for each previous five-year period starting from 1955 to 2050 in 5-year interval. The following figure shows the expected result.\n",
        "6. Map country names to their continents and add a 'continent' column storing the continent names corresponding to the countries. Plot the mean population and average annual growth over the years (1950-2050) for all continents.\n",
        "7. What are the top 5 countries with the highest population growth rate from 1950 to 2020? How does this compare to their projected growth rates from 2020 to 2050? Discuss any notable differences and other factors that should be also considered together with the historical growth data to predict future population changes."
      ]
    },
    {
      "cell_type": "markdown",
      "source": [
        "## Answers:"
      ],
      "metadata": {
        "id": "xxH09Sr87fow"
      }
    },
    {
      "cell_type": "markdown",
      "metadata": {
        "id": "XNjXvrl8fir5"
      },
      "source": [
        "1. How many tables have you read in? List the columns of the DataFrames that contain the population data.\n"
      ]
    },
    {
      "cell_type": "code",
      "source": [],
      "metadata": {
        "id": "YNGXBG9o7b6w"
      },
      "execution_count": null,
      "outputs": []
    },
    {
      "cell_type": "markdown",
      "source": [
        "2. For each population DataFrame, rename the column names of average annual growth to meaningful and unique names."
      ],
      "metadata": {
        "id": "0NEBuMsgc229"
      }
    },
    {
      "cell_type": "code",
      "source": [],
      "metadata": {
        "id": "EhcW1go97cXn"
      },
      "execution_count": null,
      "outputs": []
    },
    {
      "cell_type": "markdown",
      "metadata": {
        "id": "Ww1EOim0f2Dm"
      },
      "source": [
        "3. Create a DataFrame containing all the data from the population tables. i.e., the DataFrame contains the popultation and average annual growth data from 1950-2050. You need to combine the three population tables. How many rows and columns in the final combined DataFrame?"
      ]
    },
    {
      "cell_type": "code",
      "source": [],
      "metadata": {
        "id": "sAh9NzYB7c3_"
      },
      "execution_count": null,
      "outputs": []
    },
    {
      "cell_type": "markdown",
      "metadata": {
        "id": "v7KI-Uw6gROf"
      },
      "source": [
        "4. For the top 10 most populous countries at 1950, plot their population data from 1950-2050 (in 5-year interval). The plot should use years 1950-2050 as x axis, and population numbers as y axis. The following figure shows the expected result: ![](https://i.imgur.com/6W9RuZO.png)"
      ]
    },
    {
      "cell_type": "code",
      "source": [],
      "metadata": {
        "id": "QPn7IOq07RhS"
      },
      "execution_count": null,
      "outputs": []
    },
    {
      "cell_type": "markdown",
      "metadata": {
        "id": "EYjENjwJgYQz"
      },
      "source": [
        "5. For the same top 10 most populous contries at 1950, plot the average annual growth for each previous five-year period starting from 1955 to 2050 in 5-year interval. The following figure shows the expected result: ![](https://i.imgur.com/ImXjIo0.png)"
      ]
    },
    {
      "cell_type": "code",
      "source": [],
      "metadata": {
        "id": "SEtKWYPd7T8a"
      },
      "execution_count": null,
      "outputs": []
    },
    {
      "cell_type": "markdown",
      "source": [
        "6. Map country names to their continents and add a 'continent' column storing the continent names corresponding to the countries. Plot the mean population and average annual growth over the years (1950-2050) for all continents.\n",
        "- Hint: install the pycountry_convert package and use its methods for converting country names to continent names: https://pypi.org/project/pycountry-convert/"
      ],
      "metadata": {
        "id": "f1oblGKRvdYs"
      }
    },
    {
      "cell_type": "code",
      "source": [],
      "metadata": {
        "id": "V2vmd-8V7Wvz"
      },
      "execution_count": null,
      "outputs": []
    },
    {
      "cell_type": "markdown",
      "source": [
        "7. What are the top 5 countries with the highest population growth rate from 1950 to 2020? How does this compare to their projected growth rates from 2020 to 2050? Discuss any notable differences and other factors that should be also considered together with the historical growth data to predict future population changes."
      ],
      "metadata": {
        "id": "yaBisOrFXPnp"
      }
    },
    {
      "cell_type": "code",
      "source": [],
      "metadata": {
        "id": "V-ks48GK7ZYb"
      },
      "execution_count": null,
      "outputs": []
    },
    {
      "cell_type": "markdown",
      "metadata": {
        "id": "3-juA6wPyu6t"
      },
      "source": [
        "## Question 2 [40 marks]: The link: https://yuan-json-api.vercel.app/nobelprize/laureates is a RESTful API endpoint that returns information in JSON about Nobel Prize Laureates. Write Python code to use `requests` to call the RESTful API and read the JSON results. Write program to answer the following questions.\n",
        "1. Create a Pandas DataFrame containing the laureates information along with the information about their prizes and afflications in flat format. How many unique laureates are in the data set?\n",
        "\n",
        "2. Develop two distinct methods to identify laureates who have been awarded Nobel prizes more than once, whether in different years or in different categories. Present your findings in a clear and organized manner. This could be displayed in a table format (like a pandas DataFrame).\n",
        "\n",
        " - Two separate and distinct approaches could be different algorithmic strategies, Python code, or data structures. For each approach, You need to provide a detailed explanation of the logic behind each method. The explanation should be in the form of comments within your code or as a separate written text accompanying your code.\n",
        "\n",
        "3. Develop two distinct methods to list the top 5 afiliations by the number of awards. Show the laureates, prizes, and affiliations information. Present your findings in a clear and organized manner. This could be displayed in a table format (like a pandas DataFrame).\n",
        " - Two separate and distinct approaches could be using different algorithmic strategies, Python code, or data structures For each approach, you need to provide a detailed explanation of the logic behind each method. The explanation should be in the form of comments within your code or as a separate written text accompanying your code.\n",
        "\n",
        "4. For the top 5 affiliations, develop two distinct visualizations to represent the counts of each Nobel prize category associated with these affiliations.\n",
        "\n",
        " - Two different types of plots could be bar chart, pie chart, line graph, etc. You also could choose to present the information in a single comprehensive figure or multiple figures for each affiliation."
      ]
    },
    {
      "cell_type": "markdown",
      "source": [
        "## Answers:"
      ],
      "metadata": {
        "id": "OcuZALIA7wax"
      }
    },
    {
      "cell_type": "markdown",
      "source": [
        "1. Create a Pandas DataFrame containing the laureates information along with the information about their prizes and afflications in flat format. How many unique laureates are in the data set?"
      ],
      "metadata": {
        "id": "Kct19B4Se3yi"
      }
    },
    {
      "cell_type": "code",
      "source": [],
      "metadata": {
        "id": "qZKnG2RS7ybh"
      },
      "execution_count": null,
      "outputs": []
    },
    {
      "cell_type": "markdown",
      "source": [
        "2. Develop two distinct methods to identify laureates who have been awarded Nobel prizes more than once, whether in different years or in different categories. Present your findings in a clear and organized manner. This could be displayed in a table format (like a pandas DataFrame).\n",
        "\n",
        " - Two separate and distinct approaches could be different algorithmic strategies, Python code, or data structures. For each approach, You need to provide a detailed explanation of the logic behind each method. The explanation should be in the form of comments within your code or as a separate written text accompanying your code.\n"
      ],
      "metadata": {
        "id": "yDaA-ApTuAvA"
      }
    },
    {
      "cell_type": "code",
      "source": [],
      "metadata": {
        "id": "H69bDKbB7zHx"
      },
      "execution_count": null,
      "outputs": []
    },
    {
      "cell_type": "markdown",
      "source": [
        "3. Develop two distinct methods to list the top 5 afiliations by the number of awards. Show the laureates, prizes, and affiliations information. Present your findings in a clear and organized manner. This could be displayed in a table format (like a pandas DataFrame).\n",
        " - Two separate and distinct approaches could be using different algorithmic strategies, Python code, or data structures For each approach, you need to provide a detailed explanation of the logic behind each method. The explanation should be in the form of comments within your code or as a separate written text accompanying your code."
      ],
      "metadata": {
        "id": "W2Rrm048ylJX"
      }
    },
    {
      "cell_type": "code",
      "source": [],
      "metadata": {
        "id": "94byHSB471jj"
      },
      "execution_count": null,
      "outputs": []
    },
    {
      "cell_type": "markdown",
      "source": [
        "4. For the top 5 affiliations, develop two distinct visualizations to represent the counts of each Nobel prize category associated with these affiliations.\n",
        "\n",
        " - Two different types of plots could be bar chart, pie chart, line graph, etc. You also could choose to present the information in a single comprehensive figure or multiple figures for each affiliation."
      ],
      "metadata": {
        "id": "2xQNPqTQ0Zmh"
      }
    },
    {
      "cell_type": "code",
      "source": [],
      "metadata": {
        "id": "uyaphmw072D5"
      },
      "execution_count": null,
      "outputs": []
    },
    {
      "cell_type": "markdown",
      "source": [
        "## Question 3 [20 marks]: The file `weather-samples.csv` contains weather data measured at a weather station for a period of three years. Sensors at the weather station capture weather-related measurements such as air temperature, air pressure, and relative humidity. Load  the data to a pandas DataFrame. Write code to answer the following questions.\n",
        "\n",
        "1. How many rows contain missing values?\n",
        "2. How many columns contain missing values?\n",
        "3. List the numbers of missing values for all columns.\n",
        "4. For each missing value, fill up it with the mean value of the column where the missing value is located in.\n",
        "5. Show there is no missing value after filling up.\n",
        "6. Plot the histogram of the value `relative_humidity_3pm`.\n",
        "7. A weather forecast problem is to predict a measure in a future time using the measurements at earlier moments. For example, the data set contains several measurements at 9am and one measurement `relative_humidity_3pm` at 3pm. It is interesting to know whether we can predict `relative_humidity_3pm` using the values at 9am. This is a typical supervised machine learning problem. Using plots to visualize the relationships between the measurements at 9am and `relative_humidity_3pm`. What do you find? Discuss the impacts of the measurements at 9am to the values of `relaive_humidity_3pm`."
      ],
      "metadata": {
        "id": "_Cd60d7Ehcb7"
      }
    },
    {
      "cell_type": "markdown",
      "source": [
        "## Answers:"
      ],
      "metadata": {
        "id": "kigiB7Ru8CvU"
      }
    },
    {
      "cell_type": "markdown",
      "source": [
        "1. How many rows contain missing values?"
      ],
      "metadata": {
        "id": "33FCtt16hjJs"
      }
    },
    {
      "cell_type": "code",
      "source": [],
      "metadata": {
        "id": "dCg0LODl8E-q"
      },
      "execution_count": null,
      "outputs": []
    },
    {
      "cell_type": "markdown",
      "source": [
        "2. How many columns contain missing values?"
      ],
      "metadata": {
        "id": "il_e6TFviGhr"
      }
    },
    {
      "cell_type": "code",
      "source": [],
      "metadata": {
        "id": "ZwZEdq4C8Fp7"
      },
      "execution_count": null,
      "outputs": []
    },
    {
      "cell_type": "markdown",
      "source": [
        "3. List the numbers of missing values for all columns."
      ],
      "metadata": {
        "id": "Ngy4f0MwiM_b"
      }
    },
    {
      "cell_type": "code",
      "source": [],
      "metadata": {
        "id": "nEE2Wjee8GHR"
      },
      "execution_count": null,
      "outputs": []
    },
    {
      "cell_type": "markdown",
      "source": [
        "4. For each missing value, fill up it with the mean value of the column where the missing value is located in."
      ],
      "metadata": {
        "id": "DTwdBLCRiv7m"
      }
    },
    {
      "cell_type": "code",
      "source": [],
      "metadata": {
        "id": "0Bkce0BJ8Gzq"
      },
      "execution_count": null,
      "outputs": []
    },
    {
      "cell_type": "markdown",
      "source": [
        "5. Show there is no missing value after filling up."
      ],
      "metadata": {
        "id": "taIUdmJYjvvk"
      }
    },
    {
      "cell_type": "code",
      "source": [],
      "metadata": {
        "id": "u1Irgfoa8HPj"
      },
      "execution_count": null,
      "outputs": []
    },
    {
      "cell_type": "markdown",
      "source": [
        "6. Plot the histogram of the value `relative_humidity_3pm`."
      ],
      "metadata": {
        "id": "1I8BYIui0Iy0"
      }
    },
    {
      "cell_type": "code",
      "source": [],
      "metadata": {
        "id": "x-OwG1jx8Hqy"
      },
      "execution_count": null,
      "outputs": []
    },
    {
      "cell_type": "markdown",
      "source": [
        "7. A weather forecast problem is to predict a measure in a future time using the measurements at earlier moments. For example, the data set contains several measurements at 9am and one measurement `relative_humidity_3pm` at 3pm. It is interesting to know whether we can predict `relative_humidity_3pm` using the values at 9am. This is a typical supervised machine learning problem. Using plots to visualize the relationships between the measurements at 9am and `relative_humidity_3pm`. What do you find? Discuss the impacts of the measurements at 9am to the values of `relaive_humidity_3pm`."
      ],
      "metadata": {
        "id": "FPf4XUlj1-pd"
      }
    },
    {
      "cell_type": "code",
      "source": [],
      "metadata": {
        "id": "SnbGNL_z3wPX"
      },
      "execution_count": null,
      "outputs": []
    },
    {
      "cell_type": "markdown",
      "source": [
        "## Question 4 [20 marks]: Download the dataset: `activity-data.csv` and load it into a data frame. The data set contains the time series outputs of a wearable clinical device measuring a patient's activities. Write code to answer the following questions:\n",
        "1. What is the total number of days covered by the dataset? Provide a list of all the distinct calendar dates on which recordings were made.\n",
        "2. Can you plot the number of steps against the recording 'Datetime', ensuring that each tick on the x-axis corresponds to a unique date in the dataset?\n",
        "3. Create a plot that shows the daily average number of steps in comparison with the steps recorded each minute. The plot should clearly differentiate between the daily mean and individual minute measurements.\n",
        "4. How does the average step count change during 15-minute intervals throughout the day? Compute and plot these averages across all days in the dataset.\n",
        "5. For each day represented in the dataset, what is the percentage of minutes without records (missing records)? Please calculate and present this data\n",
        "6. For minutes with missing data, fill in 'Steps', 'XCnt', 'YCnt', 'ZCnt', and 'Calories' using the mean values for those minutes across all days where data is available. Save the completed dataset to a DataFrame named `all_activity_df` with columns for 'Datetime', 'Steps', 'XCnt', 'YCnt', 'ZCnt', and 'Calories'.\n",
        "7. Could you create plots that illustrate the pairwise relationships between 'Steps', 'XCnt', 'YCnt', 'ZCnt', and 'Calories'? After analyzing these plots, what conclusions can you draw about the relationships and potential correlations between these variables?"
      ],
      "metadata": {
        "id": "gup5S8UOq-ec"
      }
    },
    {
      "cell_type": "markdown",
      "source": [
        "## Answers:"
      ],
      "metadata": {
        "id": "fMdMpBqD8VGq"
      }
    },
    {
      "cell_type": "markdown",
      "metadata": {
        "id": "nbrEAgqSTZM0"
      },
      "source": [
        "1. What is the total number of days covered by the dataset? Provide a list of all the distinct calendar dates on which recordings were made."
      ]
    },
    {
      "cell_type": "code",
      "source": [],
      "metadata": {
        "id": "0nzRQyzt8XRa"
      },
      "execution_count": null,
      "outputs": []
    },
    {
      "cell_type": "markdown",
      "metadata": {
        "id": "CNKIUGNsTZM1"
      },
      "source": [
        "2. Can you plot the number of steps against the recording 'Datetime', ensuring that each tick on the x-axis corresponds to a unique date in the dataset?\n"
      ]
    },
    {
      "cell_type": "code",
      "source": [],
      "metadata": {
        "id": "44rYH3ip8X2a"
      },
      "execution_count": null,
      "outputs": []
    },
    {
      "cell_type": "markdown",
      "source": [
        "3. Create a plot that shows the daily average number of steps in comparison with the steps recorded each minute. The plot should clearly differentiate between the daily mean and individual minute measurements."
      ],
      "metadata": {
        "id": "X0dOVuc1iPET"
      }
    },
    {
      "cell_type": "code",
      "source": [],
      "metadata": {
        "id": "yd5gaG4f8YSR"
      },
      "execution_count": null,
      "outputs": []
    },
    {
      "cell_type": "markdown",
      "source": [
        "4. How does the average step count change during 15-minute intervals throughout the day? Compute and plot these averages across all days in the dataset."
      ],
      "metadata": {
        "id": "DJhWSVULjGcy"
      }
    },
    {
      "cell_type": "code",
      "source": [],
      "metadata": {
        "id": "Nb-gwUqx8YxS"
      },
      "execution_count": null,
      "outputs": []
    },
    {
      "cell_type": "markdown",
      "source": [
        "5. For each day represented in the dataset, what is the percentage of minutes without records (missing records)? Please calculate and present this data"
      ],
      "metadata": {
        "id": "hmMUuQONvlIO"
      }
    },
    {
      "cell_type": "code",
      "source": [],
      "metadata": {
        "id": "mac09c5H8ZNT"
      },
      "execution_count": null,
      "outputs": []
    },
    {
      "cell_type": "markdown",
      "source": [
        "6. For minutes with missing data, fill in 'Steps', 'XCnt', 'YCnt', 'ZCnt', and 'Calories' using the mean values for those minutes across all days where data is available. Save the completed dataset to a DataFrame named `all_activity_df` with columns for 'Datetime', 'Steps', 'XCnt', 'YCnt', 'ZCnt', and 'Calories'.\n"
      ],
      "metadata": {
        "id": "xqVmOCR62CKq"
      }
    },
    {
      "cell_type": "code",
      "source": [],
      "metadata": {
        "id": "3Iz9WcLv8Zni"
      },
      "execution_count": null,
      "outputs": []
    },
    {
      "cell_type": "markdown",
      "source": [
        "7. Could you create plots that illustrate the pairwise relationships between 'Steps', 'XCnt', 'YCnt', 'ZCnt', and 'Calories'? After analyzing these plots, what conclusions can you draw about the relationships and potential correlations between these variables?"
      ],
      "metadata": {
        "id": "ROOaOKt2o8Ii"
      }
    },
    {
      "cell_type": "code",
      "source": [],
      "metadata": {
        "id": "f9TvWE131R-H"
      },
      "execution_count": null,
      "outputs": []
    }
  ]
}